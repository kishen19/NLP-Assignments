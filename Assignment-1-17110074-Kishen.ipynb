{
 "cells": [
  {
   "cell_type": "markdown",
   "metadata": {},
   "source": [
    "# CS 613 - Natural Language Processing\n",
    "\n",
    "## Assignment 1"
   ]
  },
  {
   "cell_type": "markdown",
   "metadata": {},
   "source": [
    "### 1) \n",
    "In this part I will read all the tweets and clean them using regex and then apply the tokenizers. Using regex I will remove all the links and smileys, which are not useful. (If we consider links as tokens it will not affect the values calculated much). Then, I will use tweet tokenizer followed by regex tokenizer to get my tokens."
   ]
  },
  {
   "cell_type": "code",
   "execution_count": 47,
   "metadata": {},
   "outputs": [],
   "source": [
    "# Libraries\n",
    "from nltk.tokenize import regexp_tokenize, TweetTokenizer\n",
    "import re, csv\n",
    "from collections import defaultdict\n",
    "from operator import itemgetter\n",
    "import matplotlib.pyplot as plt\n",
    "import numpy as np\n",
    "%matplotlib inline"
   ]
  },
  {
   "cell_type": "code",
   "execution_count": 48,
   "metadata": {},
   "outputs": [],
   "source": [
    "# Utility Functions for removing links and smileys#\n",
    "\n",
    "def link_remover(data):\n",
    "    p = re.compile('(http|pic.).*?(¦|\\s|\\n|$)')\n",
    "    return p.sub('', data)\n",
    "\n",
    "def smiley_remover(data):\n",
    "    p = re.compile('(:|;|<)[-\\]*[a-zA-Z0-9(){}]')\n",
    "    return p.sub('', data)"
   ]
  },
  {
   "cell_type": "code",
   "execution_count": 49,
   "metadata": {},
   "outputs": [
    {
     "name": "stdout",
     "output_type": "stream",
     "text": [
      "No. of Tokens: 293161\n",
      "No. of Types: 32422\n",
      "TTR: 0.1105945197348897\n"
     ]
    }
   ],
   "source": [
    "tknzr = TweetTokenizer(strip_handles=True, reduce_len=True) # this is the tweet_tokenizer\n",
    "word_tokens = [] # will store all the tokens\n",
    "\n",
    "with open(\"./tweets-dataset.csv\", \"r\", encoding='utf-8') as dataset:\n",
    "    data = csv.reader(dataset)\n",
    "    column_name = 0 # this is just to eliminate the first row, which is actually the column heading.\n",
    "    for tweet in data: \n",
    "        if column_name==0: \n",
    "            column_name = 1\n",
    "            continue\n",
    "        cleaned_tweet = smiley_remover(link_remover(tweet[0])) # Cleaned text \n",
    "        tweet_tokenized_tweet = \" \".join(tknzr.tokenize(cleaned_tweet.lower())) # tweet tokenized, and then joined back as a single string\n",
    "        word_tokens += list(filter(lambda s: s != \"'\", regexp_tokenize(tweet_tokenized_tweet, pattern=\"[a-zA-Z']+\")))\n",
    "         \n",
    "word_types = set(word_tokens) # All the types\n",
    "\n",
    "TTR = len(word_types)/len(word_tokens) \n",
    "print(\"No. of Tokens:\", len(word_tokens))\n",
    "print(\"No. of Types:\", len(word_types))\n",
    "print(\"TTR:\", TTR) "
   ]
  },
  {
   "cell_type": "markdown",
   "metadata": {},
   "source": [
    "### 2) Plotting Zipf's law\n",
    "\n",
    "#### i) Meaning Law: The number of meanings m of a word obeys the law -\n",
    "\\begin{equation}\n",
    "    m \\: \\propto \\: \\sqrt{f}\n",
    "\\end{equation}\n",
    "where, f is the frequency of that word.\n",
    "\n",
    "#### ii) Length Law: Word frequency is inversely proportional to their length\n",
    "\\begin{equation}\n",
    "    l \\: \\propto \\: \\frac{1}{f}\n",
    "\\end{equation}\n",
    "\n",
    "\n",
    "Now, lets preprocess some required stuff.\n"
   ]
  },
  {
   "cell_type": "code",
   "execution_count": 50,
   "metadata": {},
   "outputs": [],
   "source": [
    "freq_dict = defaultdict(int) # Dictionary of frequencies of tokens\n",
    "for token in word_tokens:\n",
    "    freq_dict[token] += 1\n",
    "freq_list = sorted(freq_dict.items(), key=itemgetter(1)) # List of (word,freq) pair sorted according to freq"
   ]
  },
  {
   "cell_type": "markdown",
   "metadata": {},
   "source": [
    "first, for meanings law, I am selecting some words covering a range of frequencies and found their number of meanings using wordnet."
   ]
  },
  {
   "cell_type": "code",
   "execution_count": 51,
   "metadata": {
    "scrolled": true
   },
   "outputs": [
    {
     "name": "stdout",
     "output_type": "stream",
     "text": [
      "[(2, 1, 'officials'), (3, 4, 'hangover'), (4, 5, 'flowers'), (5, 10, 'female'), (7, 15, 'through'), (13, 52, 'full'), (17, 88, 'bad'), (21, 136, 'last'), (25, 168, 'see'), (27, 227, 'good')]\n"
     ]
    }
   ],
   "source": [
    "from nltk.corpus import wordnet as wn\n",
    "meanings = defaultdict(int)\n",
    "for w in word_types:\n",
    "    ms = len(set(wn.synsets(w)))\n",
    "    meanings[w] = ms\n",
    "\n",
    "selected_words = ['hangover','flowers','female','through','full','bad','good','last','see','officials']\n",
    "pairs = sorted([(meanings[i], freq_dict[i], i) for i in selected_words], key=itemgetter(1))\n",
    "print(pairs)\n",
    "\n",
    "meanings = [i[0] for i in pairs]\n",
    "frequencies = [i[1] for i in pairs]"
   ]
  },
  {
   "cell_type": "markdown",
   "metadata": {},
   "source": [
    "now, for length law, for every length available I will calculate the no. of words having that length in the corpus. "
   ]
  },
  {
   "cell_type": "code",
   "execution_count": 52,
   "metadata": {},
   "outputs": [
    {
     "name": "stdout",
     "output_type": "stream",
     "text": [
      "[(9, 1, 'officials'), (8, 4, 'hangover'), (7, 5, 'flowers'), (6, 10, 'female'), (5, 17, 'trust'), (4, 52, 'full'), (3, 88, 'bad'), (3, 168, 'see'), (2, 421, 'my')]\n"
     ]
    }
   ],
   "source": [
    "length_dict = defaultdict(int) # length mapped to freqs\n",
    "for i in freq_dict:\n",
    "    length_dict[len(i)] += freq_dict[i]\n",
    "\n",
    "selected_words_1 = ['hangover','flowers','female','full','bad','see','officials', 'trust', 'my']\n",
    "length_freq = sorted([(len(i), freq_dict[i],i) for i in selected_words_1], key=itemgetter(1)) # (length, freq) pair sorted according to length\n",
    "lengths = [i[0] for i in length_freq]\n",
    "freqs = [i[1] for i in length_freq]\n",
    "print(length_freq)"
   ]
  },
  {
   "cell_type": "code",
   "execution_count": 53,
   "metadata": {},
   "outputs": [
    {
     "data": {
      "image/png": "[encoded data removed]",
      "text/plain": [
       "<Figure size 1080x360 with 2 Axes>"
      ]
     },
     "metadata": {
      "needs_background": "light"
     },
     "output_type": "display_data"
    }
   ],
   "source": [
    "# Plotting\n",
    "plt.rcParams[\"figure.figsize\"] = (15,5)\n",
    "fig, (ax1,ax2) = plt.subplots(1,2)\n",
    "ax1.plot(frequencies,meanings, 'b') # Zipf's law of meanings\n",
    "ax1.set_title(\"Zipf's Meaning Law\")\n",
    "ax1.set_ylabel('No. of Meanings')\n",
    "ax1.set_xlabel('Frequency')\n",
    "ax2.plot(freqs,lengths, 'm') # Zipf's law of lengths\n",
    "ax2.set_title(\"Zipf's Length Law\")\n",
    "ax2.set_ylabel('Word Length')\n",
    "ax2.set_xlabel('Frequency')\n",
    "plt.show()"
   ]
  },
  {
   "cell_type": "markdown",
   "metadata": {},
   "source": [
    "As we can see, both the above plots resembles the conditions of Zipf's law. Therefore, Zipf's law holds true for this dataset."
   ]
  },
  {
   "cell_type": "markdown",
   "metadata": {},
   "source": [
    "### 3) Heap's Law\n",
    "\n",
    "Let $|V|$ be the size of the vocabulary and $N$ be the number of tokens, then\n",
    "\\begin{equation}\n",
    "    |V| = KN^{\\beta}\n",
    "\\end{equation}\n",
    "where, $K \\approx 10-100$ and $\\beta \\approx 0.4-0.6$"
   ]
  },
  {
   "cell_type": "code",
   "execution_count": 54,
   "metadata": {},
   "outputs": [],
   "source": [
    "ntokens = [i for i in range(1,len(word_tokens)+1)] # No. of tokens\n",
    "modV = [0]*len(word_tokens) # Vocabulary size\n",
    "vocab = set() # Vocabulary, we will keep adding into this and update the above.\n",
    "\n",
    "for i in range(len(word_tokens)):\n",
    "    vocab.add(word_tokens[i])\n",
    "    modV[i] = len(vocab)"
   ]
  },
  {
   "cell_type": "code",
   "execution_count": 55,
   "metadata": {},
   "outputs": [
    {
     "data": {
      "image/png": "[encoded data removed]",
      "text/plain": [
       "<Figure size 1080x360 with 2 Axes>"
      ]
     },
     "metadata": {
      "needs_background": "light"
     },
     "output_type": "display_data"
    }
   ],
   "source": [
    "#Plotting\n",
    "plt.rcParams[\"figure.figsize\"] = (15,5)\n",
    "fig, [ax1,ax2] = plt.subplots(1,2)\n",
    "ax1.plot(ntokens, modV, 'r')\n",
    "ax1.set_title(\"Heap's Law\")\n",
    "ax1.set_ylabel('Vocabulary Size |V|')\n",
    "ax1.set_xlabel('Size of Corpus N')\n",
    "ax2.plot(ntokens[1:], modV[1:], 'b')\n",
    "ax2.set_xscale('log', basex=10)\n",
    "ax2.set_yscale('log', basey=10)\n",
    "ax2.set_title(\"Heap's Law - log plot\")\n",
    "ax2.set_ylabel('log|V|')\n",
    "ax2.set_xlabel('log N')\n",
    "plt.show()"
   ]
  },
  {
   "cell_type": "code",
   "execution_count": 56,
   "metadata": {},
   "outputs": [
    {
     "name": "stdout",
     "output_type": "stream",
     "text": [
      "beta: 0.6544538577406211\n",
      "K: 8.940769966382096\n"
     ]
    }
   ],
   "source": [
    "# Estimating beta and k. I will use log plots and find a best fit line.\n",
    "x, y = np.log(ntokens), np.log(modV)\n",
    "beta,logk = np.polyfit(x,y,1) \n",
    "print(\"beta:\", beta)\n",
    "print(\"K:\", np.exp(logk))"
   ]
  },
  {
   "cell_type": "markdown",
   "metadata": {},
   "source": [
    "The constants $\\beta = 0.6545$ and $K = 8.9407$ are close to the conditions required for Heap's law. Therefore, Heap's law is verified."
   ]
  }
 ],
 "metadata": {
  "kernelspec": {
   "display_name": "Python 3",
   "language": "python",
   "name": "python3"
  },
  "language_info": {
   "codemirror_mode": {
    "name": "ipython",
    "version": 3
   },
   "file_extension": ".py",
   "mimetype": "text/x-python",
   "name": "python",
   "nbconvert_exporter": "python",
   "pygments_lexer": "ipython3",
   "version": "3.7.4"
  }
 },
 "nbformat": 4,
 "nbformat_minor": 2
}
