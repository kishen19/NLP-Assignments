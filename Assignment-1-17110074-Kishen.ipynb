{
 "cells": [
  {
   "cell_type": "markdown",
   "metadata": {},
   "source": [
    "# CS 613 - Natural Language Processing\n",
    "\n",
    "## Assignment 1"
   ]
  },
  {
   "cell_type": "markdown",
   "metadata": {},
   "source": [
    "### 1) \n",
    "In this part I will read all the tweets and clean them using regex and then apply the tokenizers. Using regex I will remove all the links and smileys, which are not useful. (If we consider links as tokens it will not affect the values calculated much). Then, I will use tweet tokenizer followed by regex tokenizer to get my tokens."
   ]
  },
  {
   "cell_type": "code",
   "execution_count": 318,
   "metadata": {},
   "outputs": [],
   "source": [
    "# Libraries\n",
    "from nltk.tokenize import regexp_tokenize, TweetTokenizer\n",
    "import re, csv\n",
    "from collections import defaultdict\n",
    "from operator import itemgetter\n",
    "import matplotlib.pyplot as plt\n",
    "%matplotlib inline"
   ]
  },
  {
   "cell_type": "code",
   "execution_count": 297,
   "metadata": {},
   "outputs": [],
   "source": [
    "# Utility Functions #\n",
    "\n",
    "def link_remover(data):\n",
    "    p = re.compile('((http)|(pic.)).*?(¦|\\s|\\n|$)')\n",
    "    return p.sub('', data)\n",
    "\n",
    "def smiley_remover(data):\n",
    "    p = re.compile('(:|;)[a-zA-Z0-9()]')\n",
    "    return p.sub('', data)        "
   ]
  },
  {
   "cell_type": "code",
   "execution_count": 332,
   "metadata": {},
   "outputs": [
    {
     "name": "stdout",
     "output_type": "stream",
     "text": [
      "No. of Tokens: 293168\n",
      "No. of Types: 32418\n",
      "TTR: 0.11057823500518474\n"
     ]
    }
   ],
   "source": [
    "tknzr = TweetTokenizer(strip_handles=True, reduce_len=True) # this is the tweet_tokenizer\n",
    "word_tokens = [] # will store all the tokens\n",
    "\n",
    "with open(\"./tweets-dataset.csv\", \"r\", encoding='utf-8') as dataset:\n",
    "    data = csv.reader(dataset)\n",
    "    column_name = 0 # this is just to eliminate the first row, which is actually the column heading.\n",
    "    for tweet in data: \n",
    "        if column_name==0: \n",
    "            column_name = 1\n",
    "            continue\n",
    "        cleaned_tweet = smiley_remover(link_remover(tweet[0])) # Cleaned text \n",
    "        tweet_tokenized_tweet = \" \".join(tknzr.tokenize(cleaned_tweet.lower())) # tweet tokenized, and then joined back as a single string\n",
    "        word_tokens += list(filter(lambda s: s != \"'\", regexp_tokenize(tweet_tokenized_tweet, pattern=\"[a-zA-Z']+\")))\n",
    "         \n",
    "word_types = set(word_tokens) # All the types\n",
    "\n",
    "TTR = len(word_types)/len(word_tokens) \n",
    "print(\"No. of Tokens:\", len(word_tokens))\n",
    "print(\"No. of Types:\", len(word_types))\n",
    "print(\"TTR:\", TTR) "
   ]
  },
  {
   "cell_type": "markdown",
   "metadata": {},
   "source": [
    "### 2) Plotting Zipf's law\n",
    "\n",
    "#### i) Meaning Law: The number of meanings m of a word obeys the law -\n",
    "\\begin{equation}\n",
    "    m \\: \\propto \\: \\sqrt{f}\n",
    "\\end{equation}\n",
    "where, f is the frequency of that word.\n",
    "\n",
    "#### ii) Length Law: Word frequency is inversely proportional to their length\n",
    "\\begin{equation}\n",
    "    l \\: \\propto \\: \\frac{1}{f}\n",
    "\\end{equation}\n",
    "\n",
    "\n",
    "Now, lets preprocess some required stuff.\n"
   ]
  },
  {
   "cell_type": "code",
   "execution_count": 331,
   "metadata": {},
   "outputs": [],
   "source": [
    "freq_dict = defaultdict(int) # Dictionary of frequencies of tokens\n",
    "for token in word_tokens:\n",
    "    freq_dict[token] += 1\n",
    "freq_list = sorted(freq_dict.items(), key=itemgetter(1)) # List of (word,freq) pair sorted according to freq"
   ]
  },
  {
   "cell_type": "markdown",
   "metadata": {},
   "source": [
    "first, for meanings law, I am selecting some words covering a range of frequencies and found their number of meanings from https://www.thesaurus.com/. "
   ]
  },
  {
   "cell_type": "code",
   "execution_count": 333,
   "metadata": {},
   "outputs": [],
   "source": [
    "selected_words = [('castle', 15),('champions',17),('prestige',19),('asked',20),('link',21),('ok',22),('will',26),('like', 27),\n",
    "                  ('of',30),('team',24)] # (word, no. of meanings) pairs\n",
    "selected_words.sort(key=itemgetter(1)) # sorting w.r.t no. of meanings\n",
    "meanings = [i[1] for i in selected_words]\n",
    "frequencies = [freq_dict[i[0]] for i in selected_words]"
   ]
  },
  {
   "cell_type": "markdown",
   "metadata": {},
   "source": [
    "now, for length law, for every length available I will calculate the no. of words having that length in the corpus. "
   ]
  },
  {
   "cell_type": "code",
   "execution_count": 334,
   "metadata": {},
   "outputs": [],
   "source": [
    "length_dict = defaultdict(int) # length mapped to freqs\n",
    "for i in freq_dict:\n",
    "    length_dict[len(i)] += freq_dict[i]\n",
    "\n",
    "length_freq = sorted(list(length_dict.items())) # (length, freq) pair sorted according to length\n",
    "lengths = [length_freq[i][0] for i in range(len(length_freq)) if length_freq[i][0] not in {1,2,3}]\n",
    "freqs = [length_freq[i][1] for i in range(len(length_freq))  if length_freq[i][0] not in {1,2,3}]"
   ]
  },
  {
   "cell_type": "code",
   "execution_count": 345,
   "metadata": {},
   "outputs": [
    {
     "data": {
      "image/png": "[encoded data removed]",
      "text/plain": [
       "<Figure size 1080x360 with 2 Axes>"
      ]
     },
     "metadata": {
      "needs_background": "light"
     },
     "output_type": "display_data"
    }
   ],
   "source": [
    "# Plotting\n",
    "plt.rcParams[\"figure.figsize\"] = (15,5)\n",
    "fig, (ax1,ax2) = plt.subplots(1,2)\n",
    "ax1.plot(frequencies,meanings, 'b') # Zipf's law of meanings\n",
    "ax1.set_title(\"Zipf's Meaning Law\")\n",
    "ax1.set_ylabel('No. of Meanings')\n",
    "ax1.set_xlabel('Frequency')\n",
    "ax2.plot(freqs,lengths, 'm') # Zipf's law of lengths\n",
    "ax2.set_title(\"Zipf's Length Law\")\n",
    "ax2.set_ylabel('Word Length')\n",
    "ax2.set_xlabel('Frequency')\n",
    "plt.show()"
   ]
  },
  {
   "cell_type": "markdown",
   "metadata": {},
   "source": [
    "As we can see, both the above plots satisfy the conditions of Zipf's law. Therefore, Zipf's law holds true for this dataset."
   ]
  },
  {
   "cell_type": "markdown",
   "metadata": {},
   "source": [
    "### 3) Heap's Law\n",
    "\n",
    "Let $|V|$ be the size of the vocabulary and $N$ be the number of tokens, then\n",
    "\\begin{equation}\n",
    "    |V| = KN^{\\beta}\n",
    "\\end{equation}\n",
    "where, $K \\approx 10-100$ and $\\beta \\approx 0.4-0.6$"
   ]
  },
  {
   "cell_type": "code",
   "execution_count": 339,
   "metadata": {},
   "outputs": [],
   "source": [
    "ntokens = [i for i in range(1,len(word_tokens)+1)] # No. of tokens\n",
    "modV = [0]*len(word_tokens) # Vocabulary size\n",
    "vocab = set() # Vocabulary, we will keep adding into this and update the above.\n",
    "\n",
    "for i in range(len(word_tokens)):\n",
    "    vocab.add(word_tokens[i])\n",
    "    modV[i] = len(vocab)"
   ]
  },
  {
   "cell_type": "code",
   "execution_count": 341,
   "metadata": {},
   "outputs": [
    {
     "data": {
      "image/png": "[encoded data removed]",
      "text/plain": [
       "<Figure size 576x360 with 1 Axes>"
      ]
     },
     "metadata": {
      "needs_background": "light"
     },
     "output_type": "display_data"
    }
   ],
   "source": [
    "#Plotting\n",
    "plt.rcParams[\"figure.figsize\"] = (8,5)\n",
    "plt.plot(ntokens, modV, 'r') # Heap's Law\n",
    "plt.title(\"Heap's Law\")\n",
    "plt.ylabel('Vocabulary Size |V|')\n",
    "plt.xlabel('Size of Corpus N')\n",
    "plt.show()"
   ]
  },
  {
   "cell_type": "markdown",
   "metadata": {},
   "source": [
    "As we can see, the above plot resembles the conditions of Heap's law."
   ]
  }
 ],
 "metadata": {
  "kernelspec": {
   "display_name": "Python 3",
   "language": "python",
   "name": "python3"
  },
  "language_info": {
   "codemirror_mode": {
    "name": "ipython",
    "version": 3
   },
   "file_extension": ".py",
   "mimetype": "text/x-python",
   "name": "python",
   "nbconvert_exporter": "python",
   "pygments_lexer": "ipython3",
   "version": "3.7.4"
  }
 },
 "nbformat": 4,
 "nbformat_minor": 2
}
