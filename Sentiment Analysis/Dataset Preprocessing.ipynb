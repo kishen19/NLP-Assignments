{
 "cells": [
  {
   "cell_type": "code",
   "execution_count": 1,
   "metadata": {},
   "outputs": [],
   "source": [
    "from tqdm import tqdm_notebook as tqdm\n",
    "import json"
   ]
  },
  {
   "cell_type": "code",
   "execution_count": 2,
   "metadata": {},
   "outputs": [],
   "source": [
    "with open(\"./data1/entire.json\",encoding='utf-8') as json_data:\n",
    "     d = json.load(json_data)"
   ]
  },
  {
   "cell_type": "code",
   "execution_count": 8,
   "metadata": {},
   "outputs": [],
   "source": [
    "data = []\n",
    "with open(\"./data1/test.txt\", \"r\", encoding=\"utf-8\") as f:\n",
    "    for row in f.readlines():\n",
    "        row_data = row.strip().split()\n",
    "        tweet = {}\n",
    "        tweet[\"tweet\"] = []\n",
    "        for word in row_data[1:]:\n",
    "            if word in d:\n",
    "                tweet[\"tweet\"].append(d[word])\n",
    "        tweet[\"class\"] = row_data[0]\n",
    "        data.append(tweet)"
   ]
  },
  {
   "cell_type": "code",
   "execution_count": 9,
   "metadata": {},
   "outputs": [],
   "source": [
    "with open(\"./data1/test_final_trans.txt\", \"w\", encoding=\"utf-8\") as f:\n",
    "    for i in range(len(data)):\n",
    "        f.write(str(i)+\"\\t\"+\" \".join(data[i][\"tweet\"])+\"\\t\"+data[i][\"class\"]+\"\\n\")"
   ]
  },
  {
   "cell_type": "code",
   "execution_count": 5,
   "metadata": {},
   "outputs": [],
   "source": [
    "data=  []\n",
    "with open(\"./data1/test.txt\",\"r\") as f:\n",
    "    for row in f.readlines():\n",
    "        row_data = row.strip().split()\n",
    "        tweet = {}\n",
    "        tweet[\"tweet\"] = []\n",
    "        for word in row_data[1:]:\n",
    "            tweet[\"tweet\"].append(word)\n",
    "        tweet[\"class\"] = row_data[0]\n",
    "        data.append(tweet)"
   ]
  },
  {
   "cell_type": "code",
   "execution_count": 6,
   "metadata": {},
   "outputs": [],
   "source": [
    "with open(\"./data1/test_final1_trans.txt\", \"w\", encoding=\"utf-8\") as f:\n",
    "    for i in range(len(data)):\n",
    "        f.write(str(i)+\"\\t\"+\" \".join(data[i][\"tweet\"])+\"\\t\"+data[i][\"class\"]+\"\\n\")"
   ]
  },
  {
   "cell_type": "code",
   "execution_count": null,
   "metadata": {},
   "outputs": [],
   "source": []
  }
 ],
 "metadata": {
  "kernelspec": {
   "display_name": "Python 3",
   "language": "python",
   "name": "python3"
  },
  "language_info": {
   "codemirror_mode": {
    "name": "ipython",
    "version": 3
   },
   "file_extension": ".py",
   "mimetype": "text/x-python",
   "name": "python",
   "nbconvert_exporter": "python",
   "pygments_lexer": "ipython3",
   "version": "3.7.3"
  }
 },
 "nbformat": 4,
 "nbformat_minor": 2
}
